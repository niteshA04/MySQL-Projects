{
 "cells": [
  {
   "cell_type": "markdown",
   "id": "f07e768f",
   "metadata": {},
   "source": [
    "# MySQL with Pyhton Connection"
   ]
  },
  {
   "cell_type": "markdown",
   "id": "ec9b9f58",
   "metadata": {},
   "source": [
    "### Importing Library"
   ]
  },
  {
   "cell_type": "code",
   "execution_count": 1,
   "id": "21093e21",
   "metadata": {},
   "outputs": [],
   "source": [
    "import mysql.connector as connect"
   ]
  },
  {
   "cell_type": "markdown",
   "id": "1ae10ae4",
   "metadata": {},
   "source": [
    "### Connecting to the MySQL Server"
   ]
  },
  {
   "cell_type": "code",
   "execution_count": 2,
   "id": "48322ff2",
   "metadata": {},
   "outputs": [],
   "source": [
    "# To perform querriess on he databse we have to mention database name\n",
    "mydb = connect.connect(\n",
    "    host=\"localhost\",\n",
    "    user=\"root\",\n",
    "    passwd=\"Nitesh@2804\"\n",
    ")"
   ]
  },
  {
   "cell_type": "code",
   "execution_count": 3,
   "id": "aeabfd44",
   "metadata": {},
   "outputs": [
    {
     "name": "stdout",
     "output_type": "stream",
     "text": [
      "('abc_company',)\n",
      "('fruit_sales',)\n",
      "('information_schema',)\n",
      "('mysql',)\n",
      "('performance_schema',)\n",
      "('rna_bank_db',)\n"
     ]
    }
   ],
   "source": [
    "mycursor = mydb.cursor()\n",
    "\n",
    "mycursor.execute(\"show databases\")\n",
    "\n",
    "for i in mycursor:\n",
    "    print(i)"
   ]
  },
  {
   "cell_type": "code",
   "execution_count": 4,
   "id": "0125771d",
   "metadata": {},
   "outputs": [],
   "source": [
    "# To perform querriess on he databse we have to mention database name\n",
    "mydb = connect.connect(\n",
    "    host=\"localhost\",\n",
    "    user=\"root\",\n",
    "    passwd=\"Nitesh@2804\",\n",
    "    database=\"abc_company\"\n",
    ")"
   ]
  },
  {
   "cell_type": "code",
   "execution_count": 5,
   "id": "625215ec",
   "metadata": {},
   "outputs": [
    {
     "name": "stdout",
     "output_type": "stream",
     "text": [
      "(101, 'Steven', 'Cohen', 1000)\n",
      "(102, 'Edwin', 'Thomas', 1500)\n",
      "(103, 'Harry', 'Potter', 2000)\n",
      "(104, 'Steven', 'Potter', 4000)\n",
      "(105, 'Edwin', 'Potter', 5000)\n",
      "(106, 'Harry', 'Thomas', 6000)\n",
      "(107, 'Joe', 'Biden', 7000)\n",
      "(108, 'Chris', 'Potter', 8000)\n",
      "(109, 'Joshep', 'Jhonson', 9000)\n",
      "(110, 'Liam', 'Potter', 10000)\n",
      "(111, 'Haldte', 'Kildsa', 11000)\n",
      "(112, 'Ash', 'Davideng', 12000)\n",
      "(113, 'Idwin', 'Ideng', 13000)\n",
      "(114, 'Overn', 'Mancheg', 14000)\n",
      "(115, 'Ureino', 'Fangh', 15000)\n"
     ]
    }
   ],
   "source": [
    "mycursor = mydb.cursor()\n",
    "\n",
    "mycursor.execute(\"Select * from employees\")\n",
    "\n",
    "for i in mycursor:\n",
    "    print(i)"
   ]
  },
  {
   "cell_type": "code",
   "execution_count": 6,
   "id": "ffcc121f",
   "metadata": {},
   "outputs": [
    {
     "name": "stdout",
     "output_type": "stream",
     "text": [
      "(104, 'Steven', 'Potter', 4000)\n",
      "(105, 'Edwin', 'Potter', 5000)\n",
      "(106, 'Harry', 'Thomas', 6000)\n",
      "(107, 'Joe', 'Biden', 7000)\n",
      "(108, 'Chris', 'Potter', 8000)\n",
      "(109, 'Joshep', 'Jhonson', 9000)\n",
      "(110, 'Liam', 'Potter', 10000)\n",
      "(111, 'Haldte', 'Kildsa', 11000)\n",
      "(112, 'Ash', 'Davideng', 12000)\n",
      "(113, 'Idwin', 'Ideng', 13000)\n",
      "(114, 'Overn', 'Mancheg', 14000)\n",
      "(115, 'Ureino', 'Fangh', 15000)\n"
     ]
    }
   ],
   "source": [
    "mycursor = mydb.cursor()\n",
    "mycursor.execute(\"Select * from employees where salary > 2000\")\n",
    "\n",
    "for i in mycursor:\n",
    "    print(i)"
   ]
  },
  {
   "cell_type": "code",
   "execution_count": null,
   "id": "ddd8bab5",
   "metadata": {},
   "outputs": [],
   "source": []
  }
 ],
 "metadata": {
  "kernelspec": {
   "display_name": "Python 3 (ipykernel)",
   "language": "python",
   "name": "python3"
  },
  "language_info": {
   "codemirror_mode": {
    "name": "ipython",
    "version": 3
   },
   "file_extension": ".py",
   "mimetype": "text/x-python",
   "name": "python",
   "nbconvert_exporter": "python",
   "pygments_lexer": "ipython3",
   "version": "3.10.5"
  }
 },
 "nbformat": 4,
 "nbformat_minor": 5
}
